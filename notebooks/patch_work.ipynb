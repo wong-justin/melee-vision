{
 "cells": [
  {
   "cell_type": "markdown",
   "metadata": {},
   "source": [
    "### setup"
   ]
  },
  {
   "cell_type": "code",
   "execution_count": 1,
   "metadata": {},
   "outputs": [],
   "source": [
    "import cv2\n",
    "import numpy as np\n",
    "import matplotlib.pyplot as plt"
   ]
  },
  {
   "cell_type": "code",
   "execution_count": 2,
   "metadata": {},
   "outputs": [],
   "source": [
    "import sys\n",
    "sys.path.insert(0, '../src/')\n",
    "from video_tools import *\n",
    "from image_tools import *\n",
    "from notebook_tools import *"
   ]
  },
  {
   "cell_type": "code",
   "execution_count": 3,
   "metadata": {},
   "outputs": [],
   "source": [
    "%load_ext autoreload\n",
    "%autoreload 1\n",
    "%aimport video_tools\n",
    "%aimport image_tools\n",
    "%aimport notebook_tools"
   ]
  },
  {
   "cell_type": "code",
   "execution_count": 4,
   "metadata": {},
   "outputs": [],
   "source": [
    "# normal size plots\n",
    "plt.rcParams['figure.dpi'] = 150\n",
    "plt.rcParams['figure.figsize'] = (4,4)"
   ]
  },
  {
   "cell_type": "code",
   "execution_count": 5,
   "metadata": {},
   "outputs": [],
   "source": [
    "video = '../vid_out/Game_20210407T150943.avi'"
   ]
  },
  {
   "cell_type": "code",
   "execution_count": 6,
   "metadata": {},
   "outputs": [],
   "source": [
    "mask = np.load('./manual_mask.npy')"
   ]
  },
  {
   "cell_type": "code",
   "execution_count": 7,
   "metadata": {},
   "outputs": [],
   "source": [
    "def find_and_draw_keypoints(img):\n",
    "    masked = apply_mask(img, mask)\n",
    "    pts = find_keypoints(masked)\n",
    "    return draw_pts(masked, pts)"
   ]
  },
  {
   "cell_type": "markdown",
   "metadata": {},
   "source": [
    "### showcasing many images"
   ]
  },
  {
   "cell_type": "code",
   "execution_count": 8,
   "metadata": {},
   "outputs": [],
   "source": [
    "trim(200, 260, video, '../vid_out/clip.avi')"
   ]
  },
  {
   "cell_type": "code",
   "execution_count": 9,
   "metadata": {},
   "outputs": [],
   "source": [
    "clip = '../vid_out/clip.avi'"
   ]
  },
  {
   "cell_type": "code",
   "execution_count": 10,
   "metadata": {},
   "outputs": [],
   "source": [
    "filter_playback(clip, lambda x:x, interval_ms=1000)"
   ]
  },
  {
   "cell_type": "markdown",
   "metadata": {},
   "source": [
    "### possible structure for tracking keypoints:\n",
    "```\n",
    "keypoint (aka feature) = {\n",
    "    x,y,\n",
    "    patch,\n",
    "    descriptor,\n",
    "    (frame_num and neighbors for context?)\n",
    "}\n",
    "\n",
    "frame = {\n",
    "    keypoints[],\n",
    "    num\n",
    "}\n",
    "```"
   ]
  },
  {
   "cell_type": "code",
   "execution_count": 11,
   "metadata": {},
   "outputs": [],
   "source": [
    "frame_collection = []\n",
    "def on_frame(img):\n",
    "    masked = apply_mask(img, mask)\n",
    "    pts = find_keypoints(masked)\n",
    "    patches = [patch_at(masked, pt) for pt in pts]\n",
    "    keypoints = [{\n",
    "        'pt': pt,\n",
    "        'patch': patch,\n",
    "    } for pt, patch in zip(pts, patches)]\n",
    "    frame_collection.append(keypoints)\n",
    "    masked_around = mask_patches_around_pts(masked, pts)\n",
    "    return draw_pts(masked_around, pts)"
   ]
  },
  {
   "cell_type": "code",
   "execution_count": 12,
   "metadata": {},
   "outputs": [],
   "source": [
    "filter_playback(clip, resize_wrapper(on_frame))"
   ]
  },
  {
   "cell_type": "code",
   "execution_count": 13,
   "metadata": {},
   "outputs": [
    {
     "name": "stdout",
     "output_type": "stream",
     "text": [
      "16\n",
      "(60, 31)\n",
      "(21, 30)\n",
      "(52, 18)\n",
      "(33, 5)\n",
      "(2, 31)\n",
      "(16, 47)\n",
      "(32, 56)\n",
      "(40, 45)\n",
      "(1, 47)\n",
      "(28, 17)\n",
      "(16, 57)\n",
      "(51, 57)\n",
      "(68, 58)\n",
      "(52, 39)\n",
      "(34, 25)\n",
      "(6, 56)\n",
      "17\n",
      "(59, 31)\n",
      "(20, 30)\n",
      "(34, 5)\n",
      "(51, 18)\n",
      "(16, 47)\n",
      "(39, 44)\n",
      "(32, 56)\n",
      "(2, 31)\n",
      "(1, 47)\n",
      "(16, 57)\n",
      "(28, 17)\n",
      "(50, 57)\n",
      "(67, 57)\n",
      "(50, 39)\n",
      "(38, 21)\n",
      "(6, 56)\n",
      "(35, 33)\n"
     ]
    }
   ],
   "source": [
    "for keypoints in frame_collection[:2]:\n",
    "    print(len(keypoints))\n",
    "    for kp in keypoints:\n",
    "        print(kp['pt'])\n"
   ]
  },
  {
   "cell_type": "code",
   "execution_count": 14,
   "metadata": {},
   "outputs": [],
   "source": [
    "kpsA, kpsB = frame_collection[:2]\n",
    "ptsA = np.array([kp['pt'] for kp in kpsA])\n",
    "ptsB = np.array([kp['pt'] for kp in kpsB])"
   ]
  },
  {
   "cell_type": "code",
   "execution_count": 15,
   "metadata": {},
   "outputs": [],
   "source": [
    "def nearest_pts_indexes(pt, other_pts):\n",
    "    xydiffs = np.subtract(other_pts, pt)\n",
    "    sq_diffs = xydiffs * xydiffs\n",
    "    sq_dists = sq_diffs.sum(1)\n",
    "    index_arr = sq_dists.argsort()\n",
    "    return index_arr"
   ]
  },
  {
   "cell_type": "code",
   "execution_count": 16,
   "metadata": {},
   "outputs": [],
   "source": [
    "def nearest_pts(pt, other_pts):\n",
    "    index_arr = nearest_pts_indexes(pt, other_pts)\n",
    "    return other_pts[index_arr]"
   ]
  },
  {
   "cell_type": "code",
   "execution_count": 17,
   "metadata": {},
   "outputs": [
    {
     "name": "stdout",
     "output_type": "stream",
     "text": [
      "[59 31] (array([60, 31], dtype=int32), array([52, 39], dtype=int32))\n",
      "[20 30] (array([21, 30], dtype=int32), array([34, 25], dtype=int32))\n",
      "[34  5] (array([33,  5], dtype=int32), array([28, 17], dtype=int32))\n",
      "[51 18] (array([52, 18], dtype=int32), array([60, 31], dtype=int32))\n",
      "[16 47] (array([16, 47], dtype=int32), array([16, 57], dtype=int32))\n",
      "[39 44] (array([40, 45], dtype=int32), array([32, 56], dtype=int32))\n",
      "[32 56] (array([32, 56], dtype=int32), array([40, 45], dtype=int32))\n",
      "[ 2 31] (array([ 2, 31], dtype=int32), array([ 1, 47], dtype=int32))\n",
      "[ 1 47] (array([ 1, 47], dtype=int32), array([ 6, 56], dtype=int32))\n",
      "[16 57] (array([16, 57], dtype=int32), array([16, 47], dtype=int32))\n",
      "[28 17] (array([28, 17], dtype=int32), array([34, 25], dtype=int32))\n",
      "[50 57] (array([51, 57], dtype=int32), array([40, 45], dtype=int32))\n",
      "[67 57] (array([68, 58], dtype=int32), array([51, 57], dtype=int32))\n",
      "[50 39] (array([52, 39], dtype=int32), array([40, 45], dtype=int32))\n",
      "[38 21] (array([34, 25], dtype=int32), array([28, 17], dtype=int32))\n",
      "[ 6 56] (array([ 6, 56], dtype=int32), array([16, 57], dtype=int32))\n",
      "[35 33] (array([34, 25], dtype=int32), array([40, 45], dtype=int32))\n"
     ]
    }
   ],
   "source": [
    "for pt in ptsB:\n",
    "    neighbors = nearest_pts(pt, ptsA)\n",
    "    print(pt, tuple(neighbors[:2]) )"
   ]
  },
  {
   "cell_type": "code",
   "execution_count": 18,
   "metadata": {},
   "outputs": [
    {
     "data": {
      "image/png": "[encoded data removed]",
      "text/plain": [
       "<Figure size 450x2550 with 34 Axes>"
      ]
     },
     "metadata": {
      "needs_background": "light"
     },
     "output_type": "display_data"
    }
   ],
   "source": [
    "ptsA = [kp['pt'] for kp in kpsA]\n",
    "images = []\n",
    "for kp in kpsB:\n",
    "    pt = kp['pt']\n",
    "    i = nearest_pts_indexes(pt, ptsA)[0]\n",
    "    patchB = kp['patch']\n",
    "    patchA = kpsA[i]['patch']\n",
    "    images.extend((patchB, patchA))\n",
    "    \n",
    "plt.rcParams['figure.figsize'] = (3, len(kpsB))\n",
    "plot_a_lot(images, imshow_bgr2rgb, nrows=len(kpsB))"
   ]
  },
  {
   "cell_type": "code",
   "execution_count": 19,
   "metadata": {},
   "outputs": [],
   "source": [
    "def get_keypoints(img):\n",
    "    # returns list of {pt, patch}\n",
    "    pts = find_keypoints(img)\n",
    "    patches = [patch_at(img, pt) for pt in pts]\n",
    "    keypoints = [{\n",
    "        'pt': pt,\n",
    "        'patch': patch,\n",
    "    } for pt, patch in zip(pts, patches)]\n",
    "    return keypoints"
   ]
  },
  {
   "cell_type": "code",
   "execution_count": 20,
   "metadata": {},
   "outputs": [],
   "source": [
    "def compare_frames(imgA, imgB):\n",
    "    kpsA = get_keypoints(imgA)\n",
    "    kpsB = get_keypoints(imgB)\n",
    "    \n",
    "    ptsA = [kp['pt'] for kp in kpsA]\n",
    "    images = []\n",
    "    for kp in kpsB:\n",
    "        pt = kp['pt']\n",
    "        i = nearest_pts_indexes(pt, ptsA)[0]\n",
    "        patchB = kp['patch']\n",
    "        patchA = kpsA[i]['patch']\n",
    "        images.extend((patchB, patchA, blur(patchA)))\n",
    "\n",
    "    plt.rcParams['figure.figsize'] = (3, len(kpsB))\n",
    "    plot_a_lot(images, imshow_bgr2rgb, nrows=len(kpsB))"
   ]
  },
  {
   "cell_type": "code",
   "execution_count": 21,
   "metadata": {},
   "outputs": [],
   "source": [
    "def downscale_and_mask(raw_frame):\n",
    "    small = downscale_max_to_min_res(raw_frame)\n",
    "    return apply_mask(small, mask)"
   ]
  },
  {
   "cell_type": "code",
   "execution_count": 22,
   "metadata": {},
   "outputs": [
    {
     "data": {
      "image/png": "[encoded data removed]",
      "text/plain": [
       "<Figure size 450x2400 with 48 Axes>"
      ]
     },
     "metadata": {
      "needs_background": "light"
     },
     "output_type": "display_data"
    }
   ],
   "source": [
    "frame_num = 20\n",
    "frameA = downscale_and_mask( grab_frame(frame_num, clip) )\n",
    "frameB = downscale_and_mask( grab_frame(frame_num+5, clip) )\n",
    "compare_frames(frameA, frameB)"
   ]
  },
  {
   "cell_type": "code",
   "execution_count": null,
   "metadata": {},
   "outputs": [],
   "source": []
  },
  {
   "cell_type": "code",
   "execution_count": null,
   "metadata": {},
   "outputs": [],
   "source": []
  },
  {
   "cell_type": "markdown",
   "metadata": {},
   "source": [
    "#### I should ignore kps around the masked regions\n",
    "___\n",
    "\n",
    "#### inflate mask by small %, or add like 1or2px border to masked regions and call that kps_ignoring_mask"
   ]
  },
  {
   "cell_type": "code",
   "execution_count": 62,
   "metadata": {},
   "outputs": [],
   "source": [
    "# help set up binary descriptors\n",
    "def new_pt_in_2d_std_dist(mean, std_dev, lower, upper):\n",
    "    x, y = np.random.normal(mean, std_dev, 2)\n",
    "    x, y = int(round(x)), int(round(y))\n",
    "    if (x >= lower and x < upper and\n",
    "        y >= lower and y < upper):\n",
    "        return x, y\n",
    "    else:\n",
    "        return new_pt_in_2d_std_dist(mean, std_dev, lower, upper)"
   ]
  },
  {
   "cell_type": "code",
   "execution_count": 64,
   "metadata": {},
   "outputs": [],
   "source": [
    "# help set up binary descriptors\n",
    "def random_sample_pairs_in_radius(radius, num_pairs):\n",
    "    # generate sampling pairs.\n",
    "    # only needs to be called once to get static pt pairs for all future tests\n",
    "    # normal(gaussian) distr clusters in circular center of patch\n",
    "    # num_points should be less than num pixels in patch, (2*radius)**2\n",
    "    lower = 0\n",
    "    upper = 2*radius\n",
    "    mean = radius\n",
    "    std_dev = radius / 3    # distr within +-3 std deviations\n",
    "                            # 0.3% chance it will be outside of radius\n",
    "    pairs = []\n",
    "    while len(pairs) < num_pairs:\n",
    "        pt1 = new_pt_in_2d_std_dist(mean, std_dev, lower, upper)\n",
    "        pt2 = new_pt_in_2d_std_dist(mean, std_dev, lower, upper)\n",
    "        while pt1 == pt2:\n",
    "            pt2 = new_pt_in_2d_std_dist(mean, std_dev, lower, upper)\n",
    "\n",
    "        if ((pt1, pt2) not in pairs and\n",
    "            (pt2, pt1) not in pairs):\n",
    "            pairs.append((pt1, pt2))\n",
    "            \n",
    "    return pairs\n",
    "\n",
    "descriptor_generating_pairs = random_sample_pairs_in_radius(PATCH_RADIUS, num_pairs=256)"
   ]
  },
  {
   "cell_type": "code",
   "execution_count": 65,
   "metadata": {},
   "outputs": [],
   "source": [
    "def describe_patch(patch):\n",
    "    # returns binary descriptor\n",
    "    patch = to_grayscale(patch)  # maybe room to change it up here? eg use y-channel from YCrCb\n",
    "    patch = blur(patch)\n",
    "    bit_str = b''\n",
    "    for pt1, pt2 in descriptor_generating_pairs:  # premade gaussian pt distribution\n",
    "        if patch[pt1] > patch[pt2]:         # gets (y, x) but doesn't matter, still random\n",
    "            bit_str += b'1'\n",
    "        else:\n",
    "            bit_str += b'0'            \n",
    "    return bit_str"
   ]
  },
  {
   "cell_type": "code",
   "execution_count": 66,
   "metadata": {},
   "outputs": [],
   "source": [
    "def compare_descriptors(byte_str1, byte_str2):\n",
    "    # uses hamming dist on binary descriptors\n",
    "    differences = 0\n",
    "    for bit1, bit2 in zip(byte_str1, byte_str2):\n",
    "        differences += bit1 ^ bit2  # python can only bitwise operate on ints from byte str,\n",
    "    return differences              #   not bits from bit string sadly"
   ]
  },
  {
   "cell_type": "code",
   "execution_count": 73,
   "metadata": {},
   "outputs": [
    {
     "name": "stdout",
     "output_type": "stream",
     "text": [
      "[138, 45, 71, 59, 119, 139, 0, 110, 131, 158, 53, 137, 156, 126, 108, 74]\n",
      "[65, 95, 140, 161, 150, 97, 0, 184, 161, 172, 88, 87, 83, 166, 157, 74]\n",
      "[131, 110, 119, 71, 53, 138, 45, 59, 126, 137, 158, 74, 139, 156, 108, 0]\n",
      "[71, 138, 119, 45, 131, 110, 59, 53, 139, 158, 0, 137, 126, 156, 74, 108]\n",
      "[209, 208, 0, 88, 111, 142, 200, 105, 77, 168, 179, 119, 197, 135, 208, 108]\n",
      "[59, 158, 45, 139, 119, 53, 137, 138, 156, 71, 110, 0, 108, 74, 126, 131]\n",
      "[109, 144, 53, 42, 62, 197, 114, 122, 178, 161, 131, 41, 49, 75, 102, 0]\n",
      "[49, 161, 122, 42, 197, 75, 53, 178, 109, 0, 144, 114, 102, 62, 41, 131]\n",
      "[74, 108, 137, 126, 156, 53, 158, 59, 119, 110, 139, 45, 131, 71, 138, 0]\n",
      "[156, 137, 108, 158, 74, 59, 53, 126, 139, 119, 45, 110, 138, 0, 71, 131]\n",
      "[75, 178, 0, 122, 102, 49, 144, 42, 114, 41, 109, 161, 53, 197, 62, 131]\n",
      "[139, 59, 158, 0, 45, 138, 156, 137, 119, 71, 53, 108, 110, 74, 126, 131]\n",
      "[131, 62, 114, 41, 144, 109, 102, 178, 53, 42, 122, 75, 197, 0, 161, 49]\n",
      "[121, 149, 44, 73, 91, 163, 108, 126, 113, 90, 43, 49, 50, 200, 0, 150]\n",
      "[95, 140, 83, 161, 65, 87, 97, 166, 161, 172, 150, 157, 184, 0, 88, 74]\n",
      "[108, 156, 74, 137, 126, 158, 53, 59, 119, 110, 139, 45, 131, 138, 71, 0]\n",
      "[119, 59, 53, 110, 45, 71, 158, 137, 138, 131, 139, 156, 126, 74, 108, 0]\n"
     ]
    }
   ],
   "source": [
    "for kp in kpsB:\n",
    "    pt = kp['pt']\n",
    "#     i = nearest_pts_indexes(pt, ptsA)[0]\n",
    "    patchB = kp['patch']\n",
    "#     patchA = kpsA[i]['patch']\n",
    "    desB = describe_patch(patchA)\n",
    "#     desA = describe_patch(patchB)\n",
    "#     score = compare_descriptors(patchB, patchA)\n",
    "    scores = []\n",
    "    for i in nearest_pts_indexes(pt, ptsA):\n",
    "        patchA = kpsA[i]['patch']\n",
    "        desA = describe_patch(patchA)\n",
    "        scores.append(compare_descriptors(desB, desA))\n",
    "    print(scores)\n",
    "        "
   ]
  },
  {
   "cell_type": "code",
   "execution_count": null,
   "metadata": {},
   "outputs": [],
   "source": []
  }
 ],
 "metadata": {
  "kernelspec": {
   "display_name": "Python 3",
   "language": "python",
   "name": "python3"
  },
  "language_info": {
   "codemirror_mode": {
    "name": "ipython",
    "version": 3
   },
   "file_extension": ".py",
   "mimetype": "text/x-python",
   "name": "python",
   "nbconvert_exporter": "python",
   "pygments_lexer": "ipython3",
   "version": "3.7.2"
  }
 },
 "nbformat": 4,
 "nbformat_minor": 2
}
